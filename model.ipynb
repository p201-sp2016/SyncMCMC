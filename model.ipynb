{
 "cells": [
  {
   "cell_type": "markdown",
   "metadata": {},
   "source": [
    "## Generative Model for Synchrotron Emission from Relativistic Jets"
   ]
  },
  {
   "cell_type": "markdown",
   "metadata": {},
   "source": [
    "Radio interferometers generate raw data in the form of correlated visilibility ((u,v) data), or Fourier transforms of the sky brightness distribution. An inverse Fourier transform can then be computed in order to obtain an image of the sky. \n",
    "\n",
    "The visibility function for a two element interferometer is given by \n",
    "\n",
    "\\begin{equation}\n",
    "V = \\int I_{\\nu} exp(-2\\pi i \\cdot \\vec{b} \\hat{s}/\\lambda) d\\Omega\n",
    "\\end{equation}\n",
    "\n",
    "\n",
    "where $\\vec{b}$ is the baseline length, $\\hat{s}$ is the direction in which the antennas point, $I_{\\nu}$ is the brightness distribution on the sky, $\\lambda$ is the wavelength, and $d\\Omega$ is the solid angle over which the source extends.\n",
    "\n",
    "\n",
    "In beginning with the (u,v) data, there are a numer of error terms which arise. \n",
    "\n",
    "1. $\\textit{Additive errors due to interference ($\\epsilon_{Int}$), cross-talk ($\\epsilon_{CT}$), receiver noise ($\\epsilon_{rx}$), and correlator offsets ($\\epsilon_{fx}$).}$ Interference in the form of fluctuating intensities and crosstalk, in which antennas in an array communicate with one another transmitting artificial data, lead to errors in the final image on large angular scales. In the case of receiver noise, deconvolution can lead to the redistribution of noise features across an image, confusing astrophysical sources with noise artifacts.\n",
    "\n",
    "\n",
    "2. $\\textit{Multiplicative errors due to phase errors ($\\epsilon_{\\phi}$)from the atmosphere and ionosphere and errors in the calibration of amplitude or phase ($\\epsilon_{GAIN}$).}$ Varying indices of refraction across unique lines of sight to individual antennas can lead to phase delays which are not representative of the source structure. Errors which may arise in calibration of the amplitude and phase of each antenna will be convolved with the final image.\n",
    "\n",
    "\n",
    "3. $\\textit{Bandwidth and Time-average smearing.}$ In practice, the frequency bandwidth of a visibility is singular, ie. corresponding to a single frequency. Since the passband of the antenna instead characterizes a range of frequencies, there is some resultant radial broadening of the image, ie. chromatic aberration. Similarly, time-averaging of visibility functions leads to elongated structures in the image.\n",
    "\n",
    "\n",
    "4. $\\textit{Baseline errors.}$ Baseline errors ($\\epsilon_{BL}$)lead to baseline dependent offsets in the data. A distribution of varying baseline offsets will lead to an artifical sidelobe response that is baseline dependent.\n",
    "\n",
    "\n",
    "5. $\\textit{Pointing errors.}$ Errors in the pointing ($\\epsilon_{pt}$)between antennas can lead to amplitude fluctuations that vary as a function of time.\n",
    "\n",
    "\n",
    "Because these errors occur in the (u,v) plane, the Fourier transform of a given error term will vary depending on whether the error term is real or complex in the (u,v) plane, producing symmetric or asymmetric features respectively. \n",
    "\n",
    "\n",
    "Our generative model for describing the synchrotron emission of a relativistic jet can therefore be written as\n",
    "\n",
    "\\begin{equation}\n",
    "\\mathcal{L}(\\Theta) \\propto \\prod_{i=1}^N \\exp(-\\frac{(d_i-M)^2}{2 \\sigma_i^2})\n",
    "\\end{equation}"
   ]
  },
  {
   "cell_type": "code",
   "execution_count": null,
   "metadata": {
    "collapsed": true
   },
   "outputs": [],
   "source": []
  }
 ],
 "metadata": {
  "kernelspec": {
   "display_name": "Python 3",
   "language": "python",
   "name": "python3"
  },
  "language_info": {
   "codemirror_mode": {
    "name": "ipython",
    "version": 3
   },
   "file_extension": ".py",
   "mimetype": "text/x-python",
   "name": "python",
   "nbconvert_exporter": "python",
   "pygments_lexer": "ipython3",
   "version": "3.5.1"
  }
 },
 "nbformat": 4,
 "nbformat_minor": 0
}
