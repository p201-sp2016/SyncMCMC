{
 "cells": [
  {
   "cell_type": "markdown",
   "metadata": {},
   "source": [
    "# SyncMCMC Tutorial\n",
    "\n",
    "The following tutorial serves to illustrate proper implementation of SyncMCMC for inferring the flux normalization, self-absorption frequency, and characteristic electron frequency corresponding to synchrotron emission from a relativistic jet. These parameters, when combined with minimal energy equipartition arguments, allow for constraints on the total electron density and bulk Lortentz factor of the jet, as well as the minimum energy and physical source size."
   ]
  },
  {
   "cell_type": "code",
   "execution_count": 4,
   "metadata": {
    "collapsed": false
   },
   "outputs": [],
   "source": [
    "%matplotlib inline\n",
    "import sys\n",
    "sys.path.append('/Users/Gandalf/SyncMCMC/syncmcmc')\n",
    "from priorclasses import FluxFrequencyPriors, UniformPrior,FluxFrequencyPriorsCombinedSpectrum\n",
    "import matplotlib.pyplot as plt\n",
    "import numpy as np\n",
    "import seaborn as sns\n",
    "import emcee\n",
    "import corner\n",
    "import argparse\n",
    "from PTmcmc import run_mcmc\n",
    "sns.set_style(\"white\")"
   ]
  },
  {
   "cell_type": "markdown",
   "metadata": {},
   "source": [
    "SyncMCMC allows the user to input a number of parameters, such as lower and upper bounds for uniform priors on each parameter, and specify outputs, including corner plots and time series of the sampler chains. The data file must be specified when executing the script and should be titled accordingly (ie. \"event_ndays\") where ndays refers to the elapsed time since initial detection. \n",
    "\n",
    "       Usage: model.py [options] -i filename\n",
    "    \n",
    "       Outputs best fit parameters for F_v, v_a, and v_m and a plot of the fit.\n",
    "\n",
    "       Options:\n",
    "\n",
    "       -i     --input     Specify data file\n",
    "       -r     --raw       Plot raw data\n",
    "       -fp    --fprior    Speicify lower and upper bounds for prior on flux normalization factor (Default: 1:55)\n",
    "       -vap   --vaprior   Specify lower and upper bounds for prior on self absorption frequency (Default 1E8:1E13)\n",
    "       -vam   --vamprior  Specify lower and upper bounds for prior on characteristic frequency (Default 1E8:1E13)\n",
    "       -lnfp  --lnfprior  Specify lower and upper bounds for prior on fractional amount by which variance is underestimated\n",
    "       -t     --trace     Plot MCMC traces for F_v, v_a, v_m\n",
    "       -c     --corner    Plot corner plots\n",
    "       -F     --F_true    Specify true value for F_v\n",
    "       -vat   --va_true   Specify true value for va\n",
    "       -vmt   --vm_true   Specify true value for vm "
   ]
  },
  {
   "cell_type": "markdown",
   "metadata": {},
   "source": [
    "For example, the script can be called via:\n",
    "    \n",
    "        python ./model.py -i Sw1644+57_197days -t \n",
    "        \n",
    "where the output will produce a plot of the best fit parameters as well as a time series of the sampler chains. "
   ]
  },
  {
   "cell_type": "markdown",
   "metadata": {},
   "source": [
    "The argument -r produces a plot of the raw data. "
   ]
  },
  {
   "cell_type": "code",
   "execution_count": 5,
   "metadata": {
    "collapsed": false
   },
   "outputs": [
    {
     "data": {
      "image/png": "[encoded data removed]",
      "text/plain": [
       "<matplotlib.figure.Figure at 0x10e4ec198>"
      ]
     },
     "metadata": {},
     "output_type": "display_data"
    }
   ],
   "source": [
    "# Load data\n",
    "\n",
    "flux = []\n",
    "freqs = []\n",
    "error = []\n",
    "\n",
    "for line in open('syncmcmc/data/Sw1644+57_197days'):\n",
    "   lines = line.strip()\n",
    "   if not line.startswith(\"#\"):\n",
    "      columns = line.split(',')\n",
    "      freqs.append(columns[0])\n",
    "      flux.append(columns[1])\n",
    "      error.append(columns[2].rstrip('\\n'))\n",
    "\n",
    "flux = np.array(flux).astype(float)\n",
    "freqs = np.array(freqs).astype(float)\n",
    "error = np.array(error).astype(float)\n",
    "\n",
    "plt.scatter(freqs,flux,color='k')\n",
    "plt.xscale('log')\n",
    "plt.yscale('log')\n",
    "plt.title('Raw Data')\n",
    "plt.xlabel('Frequency [Hz]')\n",
    "plt.ylabel('Flux Density [mJy]')\n",
    "plt.show()"
   ]
  },
  {
   "cell_type": "markdown",
   "metadata": {},
   "source": [
    "The arguments -fp, -vap, and -vam specify the upper and lower bounds for priors on the flux normalization, self absorption frequency, and characteristic electron frequency respectively. As the frequencies are observable in the radio regime, 1 to a few hundred GHz are generally acceptable ranges. The flux normalization factor typically varies between 1 and 100 mJy. To pass these arguments:\n",
    "\n",
    "        python ./model.py -i Sw1644+57_197days -fp 1 55 -vap 1E10 1E13 -vam 1E10 1E13\n",
    "     \n",
    "These arguments are optional. Default values are given by 1-55 for the flux and 1E8-1E13 for both break frequencies."
   ]
  },
  {
   "cell_type": "code",
   "execution_count": null,
   "metadata": {
    "collapsed": true
   },
   "outputs": [],
   "source": []
  }
 ],
 "metadata": {
  "kernelspec": {
   "display_name": "Python 3",
   "language": "python",
   "name": "python3"
  },
  "language_info": {
   "codemirror_mode": {
    "name": "ipython",
    "version": 3
   },
   "file_extension": ".py",
   "mimetype": "text/x-python",
   "name": "python",
   "nbconvert_exporter": "python",
   "pygments_lexer": "ipython3",
   "version": "3.5.1"
  }
 },
 "nbformat": 4,
 "nbformat_minor": 0
}
