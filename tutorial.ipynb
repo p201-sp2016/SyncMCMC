{
 "cells": [
  {
   "cell_type": "markdown",
   "metadata": {},
   "source": [
    "# SyncMCMC Tutorial\n",
    "\n",
    "The following tutorial serves to illustrate proper implementation of SyncMCMC for inferring the flux normalization, self-absorption frequency, and characteristic electron frequency corresponding to synchrotron emission from a relativistic jet. These parameters, when combined with minimal energy equipartition arguments, allow for constraints on the total electron density and bulk Lortentz factor of the jet, as well as the minimum energy and physical source size."
   ]
  },
  {
   "cell_type": "code",
   "execution_count": 6,
   "metadata": {
    "collapsed": false
   },
   "outputs": [],
   "source": [
    "import sys\n",
    "sys.path.append('/Users/Gandalf/SyncMCMC/syncmcmc')\n",
    "from priorclasses import FluxFrequencyPriors, UniformPrior,FluxFrequencyPriorsCombinedSpectrum\n",
    "import matplotlib.pyplot as plt\n",
    "import numpy as np\n",
    "import seaborn as sns\n",
    "import emcee\n",
    "import corner\n",
    "import argparse\n",
    "from PTmcmc import run_mcmc\n",
    "sns.set_style(\"white\")"
   ]
  },
  {
   "cell_type": "markdown",
   "metadata": {},
   "source": [
    "SyncMCMC allows the user to input a number of parameters, such as lower and upper bounds for uniform priors on each parameter, and specify outputs, including corner plots and time series of the sampler chains. The data file must be specified when executing the script and should be titled accordingly (ie. \"event_ndays\") where ndays refers to the elapsed time since initial detection. \n",
    "\n",
    "       Usage: model.py [options] -i filename\n",
    "    \n",
    "       Outputs best fit parameters for F_v, v_a, and v_m and a plot of the fit.\n",
    "\n",
    "       Options:\n",
    "\n",
    "       -i     --input     Specify data file\n",
    "       -r     --raw       Plot raw data\n",
    "       -fp    --fprior    Speicify lower and upper bounds for prior on flux normalization factor (Default: 1:50)\n",
    "       -vap   --vaprior   Specify lower and upper bounds for prior on self absorption frequency (Default 1E9:1E13)\n",
    "       -vam   --vamprior  Specify lower and upper bounds for prior on characteristic frequency (Default 1E9:1E13)\n",
    "       -lnfp  --lnfprior  Specify lower and upper bounds for prior on fractional amount by which variance is underestimated\n",
    "       -t     --trace     Plot MCMC traces for F_v, v_a, v_m\n",
    "       -c     --corner    Plot corner plots\n",
    "       -F     --F_true    Specify true value for F_v\n",
    "       -vat   --va_true   Specify true value for va\n",
    "       -vmt   --vm_true   Specify true value for vm "
   ]
  },
  {
   "cell_type": "markdown",
   "metadata": {},
   "source": [
    "For example, the script can be called via:\n",
    "    \n",
    "        python ./model.py -i Sw1644+57_5days -t \n",
    "        \n",
    "where the output will produce a plot of the best fit parameters as well as a time series of the sampler chains. "
   ]
  },
  {
   "cell_type": "code",
   "execution_count": null,
   "metadata": {
    "collapsed": true
   },
   "outputs": [],
   "source": []
  }
 ],
 "metadata": {
  "kernelspec": {
   "display_name": "Python 3",
   "language": "python",
   "name": "python3"
  },
  "language_info": {
   "codemirror_mode": {
    "name": "ipython",
    "version": 3
   },
   "file_extension": ".py",
   "mimetype": "text/x-python",
   "name": "python",
   "nbconvert_exporter": "python",
   "pygments_lexer": "ipython3",
   "version": "3.5.1"
  }
 },
 "nbformat": 4,
 "nbformat_minor": 0
}
